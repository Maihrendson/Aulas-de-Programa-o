{
  "nbformat": 4,
  "nbformat_minor": 0,
  "metadata": {
    "colab": {
      "provenance": [],
      "authorship_tag": "ABX9TyNQEHB7uD8uFNUN+TVPnJqQ",
      "include_colab_link": true
    },
    "kernelspec": {
      "name": "python3",
      "display_name": "Python 3"
    },
    "language_info": {
      "name": "python"
    }
  },
  "cells": [
    {
      "cell_type": "markdown",
      "metadata": {
        "id": "view-in-github",
        "colab_type": "text"
      },
      "source": [
        "<a href=\"https://colab.research.google.com/github/Maihrendson/Estudos-Programacao/blob/main/Untitled.ipynb\" target=\"_parent\"><img src=\"https://colab.research.google.com/assets/colab-badge.svg\" alt=\"Open In Colab\"/></a>"
      ]
    },
    {
      "cell_type": "code",
      "execution_count": null,
      "metadata": {
        "id": "SfvR23X94wXy",
        "collapsed": true
      },
      "outputs": [],
      "source": [
        "Valor_compra = int(input('Qual valor da compra? '))\n",
        "\n",
        "Valor_compra = 200\n",
        "\n",
        "if Valor_compra >= 1000:\n",
        "  print(Valor_compra * 0.3)\n",
        "elif Valor_compra >= 500:\n",
        "  print(Valor_compra * 0.2)\n",
        "elif Valor_compra >= 100:\n",
        "  print(Valor_compra * 0.1)\n",
        "else:\n",
        "  print('Sem desconto otário')"
      ]
    },
    {
      "cell_type": "code",
      "source": [
        "  Num1 = float(input('Digite o valor do numero: '))\n",
        "  Num2 = float(input('Digite o valor do numero: '))\n",
        "\n",
        "  print(Num1 + Num2)"
      ],
      "metadata": {
        "collapsed": true,
        "id": "fR10aZOQ7W3P"
      },
      "execution_count": null,
      "outputs": []
    },
    {
      "cell_type": "code",
      "source": [
        "Impar_par = (input('impar-par:'))\n",
        "\n",
        "if Impar_par in (\"2,4,6,8,10\") :\n",
        "  print('brino win')\n",
        "\n",
        "if Impar_par in (\"1,3,5,7,9\") :\n",
        "  print('felca win')"
      ],
      "metadata": {
        "id": "pNs-Y5IQ9c9f"
      },
      "execution_count": null,
      "outputs": []
    },
    {
      "cell_type": "code",
      "source": [
        "Lista_Aprovados = int(input('Digite a sua nota:   '))\n",
        "\n",
        "if Lista_Aprovados >= 7:\n",
        "  print('Parabéns você foi aprovado!! ')\n",
        "elif Lista_Aprovados >=4:\n",
        "  print('Estude mais!! você está de recuperação. ')\n",
        "else:\n",
        "  print('Você foi reprovado!! ')"
      ],
      "metadata": {
        "id": "HH-CTG_HLIlY"
      },
      "execution_count": null,
      "outputs": []
    },
    {
      "cell_type": "code",
      "source": [
        "media1 = int(input('Digite a sua nota:   '))\n",
        "media2 = int(input('Digite a sua nota:   '))\n",
        "media3 = int(input('Digite a sua nota:   '))\n",
        "\n",
        "media = ((media1 + media2 + media3) /3)\n",
        "\n",
        "if media >= 7:\n",
        "  print('Parabéns você foi aprovado!! ')\n",
        "elif media >=4:\n",
        "  print('Estude mais!! você está de recuperação. ')\n",
        "else:\n",
        "  print('Você foi reprovado!! ')"
      ],
      "metadata": {
        "id": "OYhr40rjLGps"
      },
      "execution_count": null,
      "outputs": []
    },
    {
      "cell_type": "code",
      "source": [
        "num = int(input('Qual numero voce jogou?: '))\n",
        "\n",
        "if num % 2 == 0:\n",
        "  print('Deu par!!')\n",
        "\n",
        "else:\n",
        "  print('Deu impar!!')"
      ],
      "metadata": {
        "id": "w18N5gYBMw0W"
      },
      "execution_count": null,
      "outputs": []
    },
    {
      "cell_type": "code",
      "source": [
        "Num1 = int(input('Qual seu primeiro número? '))\n",
        "Num2 = int(input('Qual seu segundo número? '))\n",
        "\n",
        "if Num1 > Num2:\n",
        "  print(f\"{Num1} É maior que {Num2}\")\n",
        "elif Num1 < Num2:\n",
        "  print(f\"{Num2} É maior que {Num1}\")\n",
        "else:\n",
        "  print(f\"{Num1} É igual a {Num2}\")"
      ],
      "metadata": {
        "id": "0-2YTcmQNMe2"
      },
      "execution_count": null,
      "outputs": []
    },
    {
      "cell_type": "code",
      "source": [
        "contador = 1\n",
        "while contador <= 20:\n",
        "  print(contador)\n",
        "  contador = contador + 1"
      ],
      "metadata": {
        "collapsed": true,
        "id": "QIrF6PCiTttO"
      },
      "execution_count": null,
      "outputs": []
    },
    {
      "cell_type": "code",
      "source": [
        "contador = 10\n",
        "while contador >= 1:\n",
        "  print(contador)\n",
        "  contador = contador - 1"
      ],
      "metadata": {
        "id": "8AFfuF14Vaom"
      },
      "execution_count": null,
      "outputs": []
    },
    {
      "cell_type": "code",
      "source": [
        "contador = 1\n",
        "while contador < 10:\n",
        "  contador += 1\n",
        "  if contador % 2 == 0:\n",
        "    print(contador)"
      ],
      "metadata": {
        "id": "0i_4sRSBVyU_"
      },
      "execution_count": null,
      "outputs": []
    },
    {
      "cell_type": "code",
      "source": [
        "num = int(input(\"digite um numero: \"))\n",
        "\n",
        "while num != 0:\n",
        "  print(num**2)\n",
        "  num = int(input(\"digite um numero novamente: \"))\n",
        "\n"
      ],
      "metadata": {
        "id": "ofmngh1tZA0W"
      },
      "execution_count": null,
      "outputs": []
    },
    {
      "cell_type": "code",
      "source": [
        "while True:\n",
        "  num = int(input('Insira um número: '))\n",
        "  if num == 0:\n",
        "    break\n",
        "  print(num**2)"
      ],
      "metadata": {
        "id": "l_Y1l9g3bhxr"
      },
      "execution_count": null,
      "outputs": []
    },
    {
      "cell_type": "code",
      "source": [
        "for numero in range(1, 11):\n",
        "  print(numero)"
      ],
      "metadata": {
        "id": "ykEuk_PvdI6n"
      },
      "execution_count": null,
      "outputs": []
    },
    {
      "cell_type": "code",
      "source": [
        "for numero in range(10, 0, -1):\n",
        "  print(numero)"
      ],
      "metadata": {
        "id": "HkCcJUz4d0B5"
      },
      "execution_count": null,
      "outputs": []
    },
    {
      "cell_type": "code",
      "source": [
        "for numero in range(1, 21):\n",
        "  print(numero)"
      ],
      "metadata": {
        "id": "4BvK7kuxeF2M"
      },
      "execution_count": null,
      "outputs": []
    },
    {
      "cell_type": "code",
      "source": [
        "soma = 0\n",
        "\n",
        "for numero in range(1, 101):\n",
        "  soma += numero\n",
        "\n",
        "  print(soma)"
      ],
      "metadata": {
        "id": "1GMGpM3aeR_0"
      },
      "execution_count": null,
      "outputs": []
    },
    {
      "cell_type": "code",
      "source": [
        "for numero in range(1, 11):\n",
        "  if numero % 2 != 0:\n",
        "    print(numero)"
      ],
      "metadata": {
        "id": "5keUBVYOe1QC"
      },
      "execution_count": null,
      "outputs": []
    },
    {
      "cell_type": "code",
      "source": [
        "import random\n",
        "\n",
        "numero = random.randint(0,100)\n",
        "print(numero)"
      ],
      "metadata": {
        "id": "P76RFBiyiQxG"
      },
      "execution_count": null,
      "outputs": []
    }
  ]
}