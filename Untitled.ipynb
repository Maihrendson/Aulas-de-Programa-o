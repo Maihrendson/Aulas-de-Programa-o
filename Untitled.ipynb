{
  "nbformat": 4,
  "nbformat_minor": 0,
  "metadata": {
    "colab": {
      "provenance": [],
      "authorship_tag": "ABX9TyM06yqI0OrONGiHmdaD90XX",
      "include_colab_link": true
    },
    "kernelspec": {
      "name": "python3",
      "display_name": "Python 3"
    },
    "language_info": {
      "name": "python"
    }
  },
  "cells": [
    {
      "cell_type": "markdown",
      "metadata": {
        "id": "view-in-github",
        "colab_type": "text"
      },
      "source": [
        "<a href=\"https://colab.research.google.com/github/Maihrendson/Aulas-de-Programa-o/blob/main/Untitled.ipynb\" target=\"_parent\"><img src=\"https://colab.research.google.com/assets/colab-badge.svg\" alt=\"Open In Colab\"/></a>"
      ]
    },
    {
      "cell_type": "code",
      "execution_count": 3,
      "metadata": {
        "colab": {
          "base_uri": "https://localhost:8080/"
        },
        "id": "SfvR23X94wXy",
        "outputId": "e3a302c0-4b07-49a7-e2a5-6ee276e615bd",
        "collapsed": true
      },
      "outputs": [
        {
          "output_type": "stream",
          "name": "stdout",
          "text": [
            "Qual valor da compra? 200\n",
            "20.0\n"
          ]
        }
      ],
      "source": [
        "Valor_compra = int(input('Qual valor da compra? '))\n",
        "\n",
        "Valor_compra = 200\n",
        "\n",
        "if Valor_compra >= 1000:\n",
        "  print(Valor_compra * 0.3)\n",
        "elif Valor_compra >= 500:\n",
        "  print(Valor_compra * 0.2)\n",
        "elif Valor_compra >= 100:\n",
        "  print(Valor_compra * 0.1)\n",
        "else:\n",
        "  print('Sem desconto otário')"
      ]
    },
    {
      "cell_type": "code",
      "source": [
        "  Num1 = float(input('Digite o valor do numero: '))\n",
        "  Num2 = float(input('Digite o valor do numero: '))\n",
        "\n",
        "  print(Num1 + Num2)"
      ],
      "metadata": {
        "colab": {
          "base_uri": "https://localhost:8080/"
        },
        "collapsed": true,
        "id": "fR10aZOQ7W3P",
        "outputId": "56bff667-eae5-4882-8b58-7354d37f6228"
      },
      "execution_count": 38,
      "outputs": [
        {
          "output_type": "stream",
          "name": "stdout",
          "text": [
            "Digite o valor do numero: 18\n",
            "Digite o valor do numero: 45\n",
            "63.0\n"
          ]
        }
      ]
    },
    {
      "cell_type": "code",
      "source": [
        "Impar_par = (input('impar-par:'))\n",
        "\n",
        "if Impar_par in (\"2,4,6,8,10\") :\n",
        "  print('brino win')\n",
        "\n",
        "if Impar_par in (\"1,3,5,7,9\") :\n",
        "  print('felca win')"
      ],
      "metadata": {
        "colab": {
          "base_uri": "https://localhost:8080/"
        },
        "id": "pNs-Y5IQ9c9f",
        "outputId": "a3e6f818-ae7e-4409-9b13-833351f8388a"
      },
      "execution_count": 37,
      "outputs": [
        {
          "output_type": "stream",
          "name": "stdout",
          "text": [
            "impar-par:5\n",
            "felca win\n"
          ]
        }
      ]
    },
    {
      "cell_type": "code",
      "source": [
        "Lista_Aprovados = int(input('Digite a sua nota: '))\n",
        "\n",
        "if Lista_Aprovados >= 7:\n",
        "  print('Parabéns você foi aprovado!! ')\n",
        "elif Lista_Aprovados >=4:\n",
        "  print('Estude mais!! você está de recuperação. ')\n",
        "else:\n",
        "  print('Você foi reprovado!! ')"
      ],
      "metadata": {
        "colab": {
          "base_uri": "https://localhost:8080/"
        },
        "id": "HH-CTG_HLIlY",
        "outputId": "7f58820d-b262-4d06-9684-21a8bf8c9537"
      },
      "execution_count": 44,
      "outputs": [
        {
          "output_type": "stream",
          "name": "stdout",
          "text": [
            "Digite a sua nota: 6\n",
            "Estude mais!! você está de recuperação. \n"
          ]
        }
      ]
    }
  ]
}